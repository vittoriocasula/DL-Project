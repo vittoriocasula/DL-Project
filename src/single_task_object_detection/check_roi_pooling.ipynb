{
 "cells": [
  {
   "cell_type": "code",
   "execution_count": 22,
   "metadata": {},
   "outputs": [],
   "source": [
    "import torch\n",
    "import torchvision"
   ]
  },
  {
   "cell_type": "code",
   "execution_count": 36,
   "metadata": {},
   "outputs": [
    {
     "name": "stdout",
     "output_type": "stream",
     "text": [
      "tensor([[[[-0.0766,  0.3599, -0.7820,  0.0715,  0.6648, -0.2868],\n",
      "          [ 1.6206, -1.5967, -0.0517, -0.3060,  0.2485, -0.2226],\n",
      "          [ 0.9132,  0.2043,  0.5740,  0.4163,  0.2615,  0.9311],\n",
      "          [-0.5145, -1.6517,  0.0371, -0.0677,  0.4290, -0.8681],\n",
      "          [-1.1963,  1.0280,  0.0719, -0.1845, -0.9583,  0.0639],\n",
      "          [ 0.6589,  0.8195,  0.5616, -0.2481, -1.0800,  0.5916]]]])\n",
      "tensor([[[[1.6206, 0.0715],\n",
      "          [0.9132, 0.5740]]]])\n"
     ]
    }
   ],
   "source": [
    "torch.manual_seed(3)\n",
    "boxes = torch.tensor([[0.0, 0.0, 12.0, 12.0]])\n",
    "\n",
    "feature_map = torch.randn(size=(1, 1, 6, 6))\n",
    "print(feature_map)\n",
    "result_roi_pool = torchvision.ops.roi_pool(\n",
    "    input=feature_map, boxes=[boxes], spatial_scale=0.25, output_size=(2, 2)\n",
    ")\n",
    "print(result_roi_pool)"
   ]
  }
 ],
 "metadata": {
  "kernelspec": {
   "display_name": "dl",
   "language": "python",
   "name": "python3"
  },
  "language_info": {
   "codemirror_mode": {
    "name": "ipython",
    "version": 3
   },
   "file_extension": ".py",
   "mimetype": "text/x-python",
   "name": "python",
   "nbconvert_exporter": "python",
   "pygments_lexer": "ipython3",
   "version": "3.11.7"
  }
 },
 "nbformat": 4,
 "nbformat_minor": 2
}
