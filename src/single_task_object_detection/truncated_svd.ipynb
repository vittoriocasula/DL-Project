{
 "cells": [
  {
   "cell_type": "code",
   "execution_count": 1,
   "metadata": {},
   "outputs": [
    {
     "data": {
      "text/plain": [
       "'/data01/dl23vitcas/dl_project'"
      ]
     },
     "execution_count": 1,
     "metadata": {},
     "output_type": "execute_result"
    }
   ],
   "source": [
    "import os\n",
    "\n",
    "os.getcwd()\n",
    "os.chdir(\"../../\")\n",
    "os.getcwd()"
   ]
  },
  {
   "cell_type": "code",
   "execution_count": 2,
   "metadata": {},
   "outputs": [
    {
     "name": "stdout",
     "output_type": "stream",
     "text": [
      "config/single_task_object_detection.yaml\n"
     ]
    }
   ],
   "source": [
    "import sys\n",
    "import argparse\n",
    "import os\n",
    "\n",
    "sys.argv = [\"view\", \"--config\", \"config/single_task_object_detection.yaml\"]\n",
    "\n",
    "parser = argparse.ArgumentParser()\n",
    "parser.add_argument(\"--config\", type=str, required=True, help=\"Path to the config file\")\n",
    "args = parser.parse_args()\n",
    "\n",
    "print(args.config)"
   ]
  },
  {
   "cell_type": "code",
   "execution_count": 3,
   "metadata": {},
   "outputs": [],
   "source": [
    "import torch\n",
    "import torch.nn.functional as F\n",
    "import torch.nn as nn"
   ]
  },
  {
   "cell_type": "code",
   "execution_count": 4,
   "metadata": {},
   "outputs": [
    {
     "name": "stdout",
     "output_type": "stream",
     "text": [
      "tensor([[ 0.,  1.,  2.],\n",
      "        [ 3.,  4.,  5.],\n",
      "        [ 6.,  7.,  8.],\n",
      "        [ 9., 10., 11.]])\n",
      "tensor([0., 1., 2., 3.])\n"
     ]
    }
   ],
   "source": [
    "W = torch.arange(12, dtype=torch.float32).reshape(4, 3)\n",
    "b = torch.arange(4, dtype=torch.float32)\n",
    "print(W)\n",
    "print(b)"
   ]
  },
  {
   "cell_type": "markdown",
   "metadata": {},
   "source": [
    "# SVD\n"
   ]
  },
  {
   "cell_type": "code",
   "execution_count": null,
   "metadata": {},
   "outputs": [],
   "source": [
    "U, S, V = torch.svd(W)"
   ]
  },
  {
   "cell_type": "code",
   "execution_count": null,
   "metadata": {},
   "outputs": [],
   "source": [
    "print(U)\n",
    "print(S)\n",
    "print(torch.diag(S))\n",
    "print(V)"
   ]
  },
  {
   "cell_type": "code",
   "execution_count": null,
   "metadata": {},
   "outputs": [],
   "source": [
    "U @ torch.diag(S) @ V.t()  # deve essere un'approssimazione di W"
   ]
  },
  {
   "cell_type": "markdown",
   "metadata": {},
   "source": [
    "# Truncated SVD\n"
   ]
  },
  {
   "cell_type": "code",
   "execution_count": 5,
   "metadata": {},
   "outputs": [],
   "source": [
    "U, S, V = torch.svd(W)"
   ]
  },
  {
   "cell_type": "code",
   "execution_count": 6,
   "metadata": {},
   "outputs": [],
   "source": [
    "t = 2\n",
    "St = S[:t]\n",
    "St_diag = torch.diag(St)"
   ]
  },
  {
   "cell_type": "code",
   "execution_count": 7,
   "metadata": {},
   "outputs": [
    {
     "name": "stdout",
     "output_type": "stream",
     "text": [
      "tensor([22.4467,  1.4641])\n",
      "tensor([[22.4467,  0.0000],\n",
      "        [ 0.0000,  1.4641]])\n"
     ]
    }
   ],
   "source": [
    "print(St)\n",
    "print(St_diag)"
   ]
  },
  {
   "cell_type": "code",
   "execution_count": 8,
   "metadata": {},
   "outputs": [
    {
     "name": "stdout",
     "output_type": "stream",
     "text": [
      "tensor([[22.4467,  0.0000,  0.0000],\n",
      "        [ 0.0000,  1.4641,  0.0000],\n",
      "        [ 0.0000,  0.0000,  0.0000]])\n"
     ]
    }
   ],
   "source": [
    "# pad: left, right, up, down\n",
    "# aggiunge un numero di colonne e righe di padding specificato  in questo caso solo una a destra e una sotto\n",
    "St_diag = F.pad(input=St_diag, pad=(0, 1, 0, 1), mode=\"constant\", value=0)\n",
    "print(St_diag)"
   ]
  },
  {
   "cell_type": "code",
   "execution_count": 9,
   "metadata": {},
   "outputs": [
    {
     "data": {
      "text/plain": [
       "tensor([[1.7881e-07, 1.0000e+00, 2.0000e+00],\n",
       "        [3.0000e+00, 4.0000e+00, 5.0000e+00],\n",
       "        [6.0000e+00, 7.0000e+00, 8.0000e+00],\n",
       "        [9.0000e+00, 1.0000e+01, 1.1000e+01]])"
      ]
     },
     "execution_count": 9,
     "metadata": {},
     "output_type": "execute_result"
    }
   ],
   "source": [
    "U @ St_diag @ V.t()  # deve essere un'approssimazione di W"
   ]
  },
  {
   "cell_type": "markdown",
   "metadata": {},
   "source": [
    "To compress a network, the single fully connected layer corresponding to W is replaced by two fully connected layers, without a non-linearity between them. The first of these layers uses the weight matrix ΣtV T (and no biases) and the second uses U (with the original bi- ases associated with W ). This simple compression method gives good speedups when the number of RoIs is large.\n"
   ]
  },
  {
   "cell_type": "markdown",
   "metadata": {},
   "source": [
    "# change weights matrix to FC layers\n"
   ]
  },
  {
   "cell_type": "code",
   "execution_count": 10,
   "metadata": {},
   "outputs": [
    {
     "name": "stdout",
     "output_type": "stream",
     "text": [
      "Parameter containing:\n",
      "tensor([[ 0.,  1.,  2.],\n",
      "        [ 3.,  4.,  5.],\n",
      "        [ 6.,  7.,  8.],\n",
      "        [ 9., 10., 11.]], requires_grad=True)\n",
      "Parameter containing:\n",
      "tensor([0., 1., 2., 3.], requires_grad=True)\n"
     ]
    }
   ],
   "source": [
    "W = torch.arange(12, dtype=torch.float32).reshape(4, 3)\n",
    "b = torch.arange(4, dtype=torch.float32)\n",
    "fc = torch.nn.Linear(3, 4, bias=True)\n",
    "fc.weight = torch.nn.Parameter(W)\n",
    "fc.bias = torch.nn.Parameter(b)\n",
    "print(fc.weight)\n",
    "print(fc.bias)"
   ]
  },
  {
   "cell_type": "code",
   "execution_count": 11,
   "metadata": {},
   "outputs": [],
   "source": [
    "U, S, V = torch.svd(fc.weight)\n",
    "t = 2\n",
    "St = S[:t]\n",
    "St_diag = torch.diag(St)\n",
    "St_diag = F.pad(input=St_diag, pad=(0, 1, 0, 1), mode=\"constant\", value=0)"
   ]
  },
  {
   "cell_type": "code",
   "execution_count": 12,
   "metadata": {},
   "outputs": [
    {
     "name": "stdout",
     "output_type": "stream",
     "text": [
      "Pesi: Parameter containing:\n",
      "tensor([[-11.1689, -12.8838, -14.5986],\n",
      "        [ -1.1205,  -0.0913,   0.9379],\n",
      "        [  0.0000,   0.0000,   0.0000]], requires_grad=True)\n",
      "Bias: None\n"
     ]
    }
   ],
   "source": [
    "desired_weights = St_diag @ V.t()\n",
    "input_size = desired_weights.size(1)\n",
    "output_size = desired_weights.size(0)\n",
    "first_fc_layer = nn.Linear(input_size, output_size, bias=False)\n",
    "\n",
    "with torch.no_grad():\n",
    "    first_fc_layer.weight = nn.Parameter(desired_weights)\n",
    "\n",
    "print(\"Pesi:\", first_fc_layer.weight)\n",
    "print(\"Bias:\", first_fc_layer.bias)"
   ]
  },
  {
   "cell_type": "code",
   "execution_count": 13,
   "metadata": {},
   "outputs": [
    {
     "name": "stdout",
     "output_type": "stream",
     "text": [
      "Pesi: Parameter containing:\n",
      "tensor([[-0.0835,  0.8325,  0.5319],\n",
      "        [-0.3137,  0.4490, -0.8066],\n",
      "        [-0.5438,  0.0656,  0.0176],\n",
      "        [-0.7739, -0.3179,  0.2571]], requires_grad=True)\n",
      "Bias: Parameter containing:\n",
      "tensor([0., 1., 2., 3.], requires_grad=True)\n"
     ]
    }
   ],
   "source": [
    "desired_weights = U\n",
    "desired_bias = fc.bias\n",
    "\n",
    "input_size = desired_weights.size(1)\n",
    "output_size = desired_weights.size(0)\n",
    "fc_layer = nn.Linear(input_size, output_size)\n",
    "\n",
    "with torch.no_grad():\n",
    "    fc_layer.weight = nn.Parameter(desired_weights)\n",
    "    fc_layer.bias = nn.Parameter(desired_bias)\n",
    "\n",
    "# Stampa pesi e bias per verificare\n",
    "print(\"Pesi:\", fc_layer.weight)\n",
    "print(\"Bias:\", fc_layer.bias)"
   ]
  },
  {
   "cell_type": "code",
   "execution_count": 14,
   "metadata": {},
   "outputs": [],
   "source": [
    "import torch\n",
    "import torch.nn as nn\n",
    "import torch.nn.functional as F\n",
    "\n",
    "\n",
    "def truncated_svd_decomposition(layer, t):\n",
    "    \"\"\"\n",
    "    Applies truncated SVD decomposition on the given linear layer.\n",
    "\n",
    "    Args:\n",
    "    - layer (nn.Linear): The linear layer to be decomposed.\n",
    "    - t (int): Number of singular values to keep.\n",
    "\n",
    "    Returns:\n",
    "    - nn.Sequential: A sequential model with two linear layers representing the truncated SVD.\n",
    "    \"\"\"\n",
    "    # Perform SVD on the weight matrix\n",
    "    W = layer.weight.data\n",
    "    U, S, V = torch.svd(W)\n",
    "\n",
    "    # Keep only the top t singular values\n",
    "    U_t = U[:, :t]\n",
    "    S_t = S[:t]\n",
    "    V_t = V[:, :t]\n",
    "\n",
    "    # Create the two new linear layers\n",
    "    first_layer = nn.Linear(V_t.shape[0], t, bias=False)\n",
    "    second_layer = nn.Linear(t, U_t.shape[0], bias=True)\n",
    "\n",
    "    # Initialize the weights of the new layers\n",
    "    first_layer.weight.data = (S_t.unsqueeze(1) * V_t.t()).t()\n",
    "    second_layer.weight.data = U_t.t()\n",
    "\n",
    "    # Set the bias of the second layer to be the same as the original layer\n",
    "    second_layer.bias.data = layer.bias.data.clone()\n",
    "\n",
    "    # Return a sequential model of the two layers\n",
    "    return nn.Sequential(first_layer, second_layer)\n",
    "\n",
    "\n",
    "# Example usage\n",
    "original_layer = nn.Linear(4096, 4096)\n",
    "compressed_layer = truncated_svd_decomposition(original_layer, t=256)"
   ]
  },
  {
   "cell_type": "code",
   "execution_count": 15,
   "metadata": {},
   "outputs": [
    {
     "data": {
      "text/plain": [
       "tensor([[ 1.5500e-02, -1.1317e-02, -5.1503e-03, -5.1536e-03,  6.5579e-03,\n",
       "          1.0705e-02,  1.5183e-02,  3.4646e-03, -1.6757e-03, -1.0893e-02,\n",
       "         -6.0354e-03,  6.3926e-03, -1.5673e-03,  8.1092e-03, -1.1599e-02,\n",
       "          1.4426e-02,  2.5974e-03,  1.8155e-03, -1.3896e-02,  1.3803e-02],\n",
       "        [ 1.3938e-02, -1.3989e-02, -2.5626e-03,  1.4210e-03, -1.1655e-02,\n",
       "         -1.3734e-02, -1.5059e-04, -4.9211e-04, -6.2377e-03, -7.3574e-03,\n",
       "         -2.1719e-03,  1.1371e-02,  2.5853e-03, -1.3306e-02,  1.0336e-02,\n",
       "          1.1554e-02,  5.7183e-03, -1.8824e-04,  7.8216e-03,  8.1912e-03],\n",
       "        [ 3.8656e-03,  1.3437e-02, -9.2378e-03,  6.0396e-03, -3.7877e-03,\n",
       "          7.5782e-03, -5.8893e-03, -9.6058e-03,  1.5215e-02,  2.3395e-03,\n",
       "          8.6658e-03,  2.1755e-03, -1.2784e-02, -1.2027e-02,  1.4118e-02,\n",
       "         -1.1834e-02, -1.0385e-02,  1.3922e-02,  1.2504e-02, -1.7128e-03],\n",
       "        [-1.3055e-02, -7.5641e-03, -5.0677e-03, -1.2371e-02, -1.2903e-02,\n",
       "         -1.2322e-02,  1.1078e-02, -1.1588e-02,  1.1634e-02, -4.7815e-03,\n",
       "         -1.1912e-02, -1.3975e-02,  3.5817e-03,  1.2884e-02, -1.2221e-02,\n",
       "          3.2746e-03,  1.0437e-02, -1.3068e-02, -5.1981e-04,  1.2160e-02],\n",
       "        [-4.8400e-04,  1.4315e-02,  8.0932e-04,  3.3498e-03,  1.4924e-02,\n",
       "          4.6169e-03,  1.0311e-02,  1.2176e-03,  2.3391e-04,  3.7712e-03,\n",
       "          2.5728e-03,  4.9875e-03, -1.8883e-03,  1.5193e-02,  1.4882e-02,\n",
       "         -7.9688e-03,  3.2143e-03,  8.3739e-03,  1.4121e-02,  1.7877e-03],\n",
       "        [ 8.2329e-03, -7.9267e-03, -6.0808e-04, -1.5199e-05,  9.6164e-03,\n",
       "         -1.1256e-02,  1.5098e-02,  1.0260e-04,  7.5082e-03,  7.9228e-03,\n",
       "         -1.2740e-02, -9.2229e-03,  1.5441e-02,  8.5550e-03,  6.7012e-03,\n",
       "          2.5501e-03,  1.1739e-02,  1.0793e-02,  7.1074e-03, -5.3321e-03],\n",
       "        [ 1.0862e-02, -2.6489e-03, -1.8717e-03, -8.0504e-03,  5.3720e-03,\n",
       "         -1.2754e-02,  1.4973e-02, -9.7074e-03,  7.7046e-03,  1.3256e-02,\n",
       "         -9.2072e-03, -8.4361e-03, -1.6482e-03,  8.9310e-03,  1.4519e-03,\n",
       "          1.4033e-02, -3.2159e-04,  2.1374e-05, -1.2046e-02, -3.5787e-03],\n",
       "        [ 1.9210e-03, -1.2575e-03, -6.8058e-03,  9.1917e-03,  1.2430e-02,\n",
       "         -3.9783e-03, -1.4313e-02, -1.3072e-02, -3.8353e-03,  1.5801e-03,\n",
       "         -2.3746e-03,  7.8615e-03, -9.3433e-03,  3.9027e-03, -3.2229e-03,\n",
       "          4.2803e-03,  2.1722e-03, -1.0380e-02, -1.4481e-02, -1.7962e-03],\n",
       "        [-1.2128e-02, -1.4875e-02,  8.3565e-03, -7.5752e-03, -1.6295e-03,\n",
       "         -1.1103e-02, -6.8270e-03, -9.3662e-03,  8.5090e-03, -7.9145e-03,\n",
       "          8.4414e-03, -8.4633e-03,  7.8528e-03, -2.5919e-03, -1.4951e-02,\n",
       "          8.2532e-03, -9.8704e-03, -4.1749e-03, -1.4445e-02,  1.4183e-02],\n",
       "        [-8.3817e-03,  1.4722e-02, -1.1684e-02, -1.3508e-02,  1.3919e-02,\n",
       "         -1.2260e-02,  1.4082e-02, -3.5754e-03,  4.1090e-03,  8.5885e-03,\n",
       "          1.8496e-03, -4.5597e-03, -1.2965e-02,  1.2759e-03, -2.6247e-03,\n",
       "          9.7872e-03,  5.6289e-03,  1.5642e-03, -2.3759e-03,  1.3040e-02],\n",
       "        [ 7.6306e-03,  1.1092e-02, -6.0084e-03, -1.1848e-02, -3.8596e-03,\n",
       "          5.1986e-03, -1.1694e-02, -5.8990e-03,  1.5078e-02,  6.2807e-03,\n",
       "         -6.7179e-03, -1.1587e-02,  1.4669e-02, -1.0342e-02,  6.1187e-03,\n",
       "          1.2307e-02,  1.4862e-02, -1.5481e-02,  1.5621e-03, -1.1193e-02],\n",
       "        [-1.5142e-02,  3.3479e-03,  7.2223e-04,  3.5135e-03,  3.8743e-03,\n",
       "         -1.1540e-03,  1.4578e-02, -7.1086e-03, -9.7075e-03,  8.7673e-03,\n",
       "         -7.2602e-03,  1.1334e-02,  1.0358e-02,  6.4253e-03, -1.3157e-02,\n",
       "          1.2081e-02,  1.0110e-02, -8.9307e-03, -9.6082e-03, -5.9474e-03],\n",
       "        [-3.6309e-03,  1.2739e-02, -1.3344e-03, -4.7233e-03, -1.0859e-03,\n",
       "         -1.8985e-03, -2.4020e-03,  3.7074e-03,  2.8729e-03, -4.9649e-03,\n",
       "         -4.9507e-03, -8.2492e-03, -1.0475e-02,  3.0937e-03,  6.5701e-03,\n",
       "          6.8524e-03,  4.7555e-03, -9.9230e-03,  1.3755e-02, -1.3623e-02],\n",
       "        [ 1.3902e-02, -1.8148e-03, -1.0918e-02, -8.3084e-03,  1.3307e-02,\n",
       "          1.2003e-02,  2.9328e-03, -1.2007e-02,  6.1986e-03, -1.7198e-03,\n",
       "          1.4734e-02, -9.4471e-03, -9.2053e-03, -4.8765e-03,  1.2788e-02,\n",
       "          2.1210e-03,  5.3998e-03,  7.5322e-03,  1.2664e-03, -1.1022e-02],\n",
       "        [-1.2537e-02,  1.0534e-02, -1.0800e-02, -1.5420e-02,  1.2493e-02,\n",
       "         -6.1575e-04, -5.8793e-05, -1.2473e-02,  1.2290e-02,  1.3389e-02,\n",
       "          7.9760e-03, -1.2033e-02,  1.0329e-02, -3.2399e-03,  5.8736e-03,\n",
       "         -1.4775e-02, -1.5607e-02, -2.0920e-03, -1.2133e-02,  1.1405e-02],\n",
       "        [ 9.3467e-03, -1.3257e-02, -3.5424e-03,  1.2768e-02, -1.4196e-02,\n",
       "         -8.8983e-03, -1.5306e-02, -1.9778e-03, -1.0892e-02,  9.3541e-03,\n",
       "          6.7428e-03, -1.0252e-02, -3.6485e-03, -8.8227e-03,  1.2540e-03,\n",
       "         -1.4611e-02, -1.4385e-02, -1.2346e-02,  1.1965e-02, -1.2100e-02],\n",
       "        [ 6.8247e-03,  3.2304e-03, -1.4543e-02, -6.8553e-03, -1.2944e-02,\n",
       "          3.1688e-03,  5.2897e-03, -5.9187e-03, -8.6376e-04,  3.1362e-03,\n",
       "         -3.6868e-03,  6.0664e-03,  1.5619e-02, -1.2431e-02,  2.3140e-03,\n",
       "          1.5044e-02,  1.3490e-02, -5.7924e-03, -1.2906e-03, -4.8615e-03],\n",
       "        [ 1.1555e-03, -2.6715e-03, -1.0589e-02, -4.3210e-03,  4.4759e-03,\n",
       "          1.4253e-02,  3.6301e-03,  7.6545e-03,  8.3979e-04,  1.6236e-03,\n",
       "         -1.1374e-02, -9.1078e-03,  1.2647e-02,  3.7685e-03,  9.5981e-03,\n",
       "          1.1302e-02, -1.4383e-02,  7.1321e-03,  3.9040e-03,  8.5926e-03],\n",
       "        [-2.9463e-03, -8.4725e-03, -2.4212e-04,  3.5356e-03, -1.0821e-02,\n",
       "         -3.8564e-03,  6.4744e-03, -5.5749e-04,  1.5993e-03,  2.9604e-03,\n",
       "          1.2111e-02, -5.8205e-03, -4.6806e-03, -5.3298e-03,  9.3906e-03,\n",
       "         -1.6364e-03, -1.3650e-02,  2.4591e-03,  4.7057e-03, -7.4004e-03],\n",
       "        [-7.8461e-03,  1.1164e-02,  9.6552e-04, -6.9654e-03, -1.2718e-02,\n",
       "          6.4910e-03, -3.3925e-03,  5.7283e-03,  1.1159e-02,  1.2070e-02,\n",
       "          1.0307e-02, -3.2566e-03,  9.9008e-03, -5.2722e-03,  4.9185e-03,\n",
       "         -1.1529e-02,  1.1509e-02, -6.3375e-03, -3.8707e-03,  6.4756e-03]],\n",
       "       grad_fn=<SliceBackward0>)"
      ]
     },
     "execution_count": 15,
     "metadata": {},
     "output_type": "execute_result"
    }
   ],
   "source": [
    "original_layer.weight[:20, :20]"
   ]
  },
  {
   "cell_type": "code",
   "execution_count": 16,
   "metadata": {},
   "outputs": [],
   "source": [
    "from model import ObjectDetectionModel as ObjModelFull\n",
    "from model_compressed import ObjectDetectionModel as ObjModelCompressed"
   ]
  },
  {
   "cell_type": "code",
   "execution_count": 17,
   "metadata": {},
   "outputs": [],
   "source": [
    "def count_parameters(model):\n",
    "    \"\"\"\n",
    "    Conta il numero di parametri nel modello.\n",
    "\n",
    "    Args:\n",
    "    - model (nn.Module): Il modello PyTorch di cui contare i parametri.\n",
    "\n",
    "    Returns:\n",
    "    - int: Il numero totale di parametri nel modello.\n",
    "    \"\"\"\n",
    "    return sum(p.numel() for p in model.parameters())"
   ]
  },
  {
   "cell_type": "code",
   "execution_count": 18,
   "metadata": {},
   "outputs": [
    {
     "data": {
      "text/plain": [
       "134690729"
      ]
     },
     "execution_count": 18,
     "metadata": {},
     "output_type": "execute_result"
    }
   ],
   "source": [
    "count_parameters(ObjModelFull())"
   ]
  },
  {
   "cell_type": "code",
   "execution_count": 19,
   "metadata": {},
   "outputs": [
    {
     "data": {
      "text/plain": [
       "9272562"
      ]
     },
     "execution_count": 19,
     "metadata": {},
     "output_type": "execute_result"
    }
   ],
   "source": [
    "count_parameters(ObjModelCompressed())"
   ]
  }
 ],
 "metadata": {
  "kernelspec": {
   "display_name": "dl",
   "language": "python",
   "name": "python3"
  },
  "language_info": {
   "codemirror_mode": {
    "name": "ipython",
    "version": 3
   },
   "file_extension": ".py",
   "mimetype": "text/x-python",
   "name": "python",
   "nbconvert_exporter": "python",
   "pygments_lexer": "ipython3",
   "version": "3.11.7"
  }
 },
 "nbformat": 4,
 "nbformat_minor": 2
}
