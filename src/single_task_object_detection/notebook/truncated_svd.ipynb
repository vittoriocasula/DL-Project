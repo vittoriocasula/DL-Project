{
 "cells": [
  {
   "cell_type": "code",
   "execution_count": null,
   "metadata": {},
   "outputs": [],
   "source": [
    "import os\n",
    "\n",
    "os.getcwd()\n",
    "os.chdir(\"../../\")\n",
    "os.getcwd()"
   ]
  },
  {
   "cell_type": "code",
   "execution_count": null,
   "metadata": {},
   "outputs": [],
   "source": [
    "import sys\n",
    "import argparse\n",
    "import os\n",
    "\n",
    "sys.argv = [\"view\", \"--config\", \"config/single_task_object_detection.yaml\"]\n",
    "\n",
    "parser = argparse.ArgumentParser()\n",
    "parser.add_argument(\"--config\", type=str, required=True, help=\"Path to the config file\")\n",
    "args = parser.parse_args()\n",
    "\n",
    "print(args.config)"
   ]
  },
  {
   "cell_type": "code",
   "execution_count": null,
   "metadata": {},
   "outputs": [],
   "source": [
    "import torch\n",
    "import torch.nn.functional as F\n",
    "import torch.nn as nn"
   ]
  },
  {
   "cell_type": "code",
   "execution_count": null,
   "metadata": {},
   "outputs": [],
   "source": [
    "W = torch.arange(12, dtype=torch.float32).reshape(4, 3)\n",
    "b = torch.arange(4, dtype=torch.float32)\n",
    "print(W)\n",
    "print(b)"
   ]
  },
  {
   "cell_type": "markdown",
   "metadata": {},
   "source": [
    "# SVD\n"
   ]
  },
  {
   "cell_type": "code",
   "execution_count": null,
   "metadata": {},
   "outputs": [],
   "source": [
    "U, S, V = torch.svd(W)"
   ]
  },
  {
   "cell_type": "code",
   "execution_count": null,
   "metadata": {},
   "outputs": [],
   "source": [
    "print(U)\n",
    "print(S)\n",
    "print(torch.diag(S))\n",
    "print(V)"
   ]
  },
  {
   "cell_type": "code",
   "execution_count": null,
   "metadata": {},
   "outputs": [],
   "source": [
    "U @ torch.diag(S) @ V.t()  # deve essere un'approssimazione di W"
   ]
  },
  {
   "cell_type": "markdown",
   "metadata": {},
   "source": [
    "# Truncated SVD\n"
   ]
  },
  {
   "cell_type": "code",
   "execution_count": null,
   "metadata": {},
   "outputs": [],
   "source": [
    "U, S, V = torch.svd(W)"
   ]
  },
  {
   "cell_type": "code",
   "execution_count": null,
   "metadata": {},
   "outputs": [],
   "source": [
    "t = 2\n",
    "St = S[:t]\n",
    "St_diag = torch.diag(St)"
   ]
  },
  {
   "cell_type": "code",
   "execution_count": null,
   "metadata": {},
   "outputs": [],
   "source": [
    "print(St)\n",
    "print(St_diag)"
   ]
  },
  {
   "cell_type": "code",
   "execution_count": null,
   "metadata": {},
   "outputs": [],
   "source": [
    "# pad: left, right, up, down\n",
    "# aggiunge un numero di colonne e righe di padding specificato  in questo caso solo una a destra e una sotto\n",
    "St_diag = F.pad(input=St_diag, pad=(0, 1, 0, 1), mode=\"constant\", value=0)\n",
    "print(St_diag)"
   ]
  },
  {
   "cell_type": "code",
   "execution_count": null,
   "metadata": {},
   "outputs": [],
   "source": [
    "U @ St_diag @ V.t()  # deve essere un'approssimazione di W"
   ]
  },
  {
   "cell_type": "markdown",
   "metadata": {},
   "source": [
    "To compress a network, the single fully connected layer corresponding to W is replaced by two fully connected layers, without a non-linearity between them. The first of these layers uses the weight matrix ΣtV T (and no biases) and the second uses U (with the original bi- ases associated with W ). This simple compression method gives good speedups when the number of RoIs is large.\n"
   ]
  },
  {
   "cell_type": "markdown",
   "metadata": {},
   "source": [
    "# change weights matrix to FC layers\n"
   ]
  },
  {
   "cell_type": "code",
   "execution_count": null,
   "metadata": {},
   "outputs": [],
   "source": [
    "W = torch.arange(12, dtype=torch.float32).reshape(4, 3)\n",
    "b = torch.arange(4, dtype=torch.float32)\n",
    "fc = torch.nn.Linear(3, 4, bias=True)\n",
    "fc.weight = torch.nn.Parameter(W)\n",
    "fc.bias = torch.nn.Parameter(b)\n",
    "print(fc.weight)\n",
    "print(fc.bias)"
   ]
  },
  {
   "cell_type": "code",
   "execution_count": null,
   "metadata": {},
   "outputs": [],
   "source": [
    "U, S, V = torch.svd(fc.weight)\n",
    "t = 2\n",
    "St = S[:t]\n",
    "St_diag = torch.diag(St)\n",
    "St_diag = F.pad(input=St_diag, pad=(0, 1, 0, 1), mode=\"constant\", value=0)"
   ]
  },
  {
   "cell_type": "code",
   "execution_count": null,
   "metadata": {},
   "outputs": [],
   "source": [
    "desired_weights = St_diag @ V.t()\n",
    "input_size = desired_weights.size(1)\n",
    "output_size = desired_weights.size(0)\n",
    "first_fc_layer = nn.Linear(input_size, output_size, bias=False)\n",
    "\n",
    "with torch.no_grad():\n",
    "    first_fc_layer.weight = nn.Parameter(desired_weights)\n",
    "\n",
    "print(\"Pesi:\", first_fc_layer.weight)\n",
    "print(\"Bias:\", first_fc_layer.bias)"
   ]
  },
  {
   "cell_type": "code",
   "execution_count": null,
   "metadata": {},
   "outputs": [],
   "source": [
    "desired_weights = U\n",
    "desired_bias = fc.bias\n",
    "\n",
    "input_size = desired_weights.size(1)\n",
    "output_size = desired_weights.size(0)\n",
    "fc_layer = nn.Linear(input_size, output_size)\n",
    "\n",
    "with torch.no_grad():\n",
    "    fc_layer.weight = nn.Parameter(desired_weights)\n",
    "    fc_layer.bias = nn.Parameter(desired_bias)\n",
    "\n",
    "# Stampa pesi e bias per verificare\n",
    "print(\"Pesi:\", fc_layer.weight)\n",
    "print(\"Bias:\", fc_layer.bias)"
   ]
  },
  {
   "cell_type": "code",
   "execution_count": null,
   "metadata": {},
   "outputs": [],
   "source": [
    "import torch\n",
    "import torch.nn as nn\n",
    "import torch.nn.functional as F\n",
    "\n",
    "\n",
    "def truncated_svd_decomposition(layer, t):\n",
    "    \"\"\"\n",
    "    Applies truncated SVD decomposition on the given linear layer.\n",
    "\n",
    "    Args:\n",
    "    - layer (nn.Linear): The linear layer to be decomposed.\n",
    "    - t (int): Number of singular values to keep.\n",
    "\n",
    "    Returns:\n",
    "    - nn.Sequential: A sequential model with two linear layers representing the truncated SVD.\n",
    "    \"\"\"\n",
    "    # Perform SVD on the weight matrix\n",
    "    W = layer.weight.data\n",
    "    U, S, V = torch.svd(W)\n",
    "\n",
    "    # Keep only the top t singular values\n",
    "    U_t = U[:, :t]\n",
    "    S_t = S[:t]\n",
    "    V_t = V[:, :t]\n",
    "\n",
    "    # Create the two new linear layers\n",
    "    first_layer = nn.Linear(V_t.shape[0], t, bias=False)\n",
    "    second_layer = nn.Linear(t, U_t.shape[0], bias=True)\n",
    "\n",
    "    # Initialize the weights of the new layers\n",
    "    first_layer.weight.data = (S_t.unsqueeze(1) * V_t.t()).t()\n",
    "    second_layer.weight.data = U_t.t()\n",
    "\n",
    "    # Set the bias of the second layer to be the same as the original layer\n",
    "    second_layer.bias.data = layer.bias.data.clone()\n",
    "\n",
    "    # Return a sequential model of the two layers\n",
    "    return nn.Sequential(first_layer, second_layer)\n",
    "\n",
    "\n",
    "# Example usage\n",
    "original_layer = nn.Linear(4096, 4096)\n",
    "compressed_layer = truncated_svd_decomposition(original_layer, t=256)"
   ]
  },
  {
   "cell_type": "code",
   "execution_count": null,
   "metadata": {},
   "outputs": [],
   "source": [
    "original_layer.weight[:20, :20]"
   ]
  },
  {
   "cell_type": "code",
   "execution_count": null,
   "metadata": {},
   "outputs": [],
   "source": [
    "from model import ObjectDetectionModel as ObjModelFull\n",
    "from model_compressed import ObjectDetectionModel as ObjModelCompressed"
   ]
  },
  {
   "cell_type": "code",
   "execution_count": null,
   "metadata": {},
   "outputs": [],
   "source": [
    "def count_parameters(model):\n",
    "    \"\"\"\n",
    "    Conta il numero di parametri nel modello.\n",
    "\n",
    "    Args:\n",
    "    - model (nn.Module): Il modello PyTorch di cui contare i parametri.\n",
    "\n",
    "    Returns:\n",
    "    - int: Il numero totale di parametri nel modello.\n",
    "    \"\"\"\n",
    "    return sum(p.numel() for p in model.parameters())"
   ]
  },
  {
   "cell_type": "code",
   "execution_count": null,
   "metadata": {},
   "outputs": [],
   "source": [
    "count_parameters(ObjModelFull())"
   ]
  },
  {
   "cell_type": "code",
   "execution_count": null,
   "metadata": {},
   "outputs": [],
   "source": [
    "count_parameters(ObjModelCompressed())"
   ]
  }
 ],
 "metadata": {
  "kernelspec": {
   "display_name": "dl",
   "language": "python",
   "name": "python3"
  },
  "language_info": {
   "codemirror_mode": {
    "name": "ipython",
    "version": 3
   },
   "file_extension": ".py",
   "mimetype": "text/x-python",
   "name": "python",
   "nbconvert_exporter": "python",
   "pygments_lexer": "ipython3",
   "version": "3.11.7"
  }
 },
 "nbformat": 4,
 "nbformat_minor": 2
}
