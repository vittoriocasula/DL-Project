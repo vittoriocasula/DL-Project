{
 "cells": [
  {
   "cell_type": "code",
   "execution_count": null,
   "metadata": {},
   "outputs": [],
   "source": [
    "import torch\n",
    "import torchvision"
   ]
  },
  {
   "cell_type": "code",
   "execution_count": null,
   "metadata": {},
   "outputs": [],
   "source": [
    "torch.manual_seed(3)\n",
    "boxes = torch.tensor([[0.0, 0.0, 12.0, 12.0]])\n",
    "\n",
    "feature_map = torch.randn(size=(1, 1, 6, 6))\n",
    "print(feature_map)\n",
    "result_roi_pool = torchvision.ops.roi_pool(\n",
    "    input=feature_map, boxes=[boxes], spatial_scale=0.25, output_size=(2, 2)\n",
    ")\n",
    "print(result_roi_pool)"
   ]
  }
 ],
 "metadata": {
  "kernelspec": {
   "display_name": "dl",
   "language": "python",
   "name": "python3"
  },
  "language_info": {
   "codemirror_mode": {
    "name": "ipython",
    "version": 3
   },
   "file_extension": ".py",
   "mimetype": "text/x-python",
   "name": "python",
   "nbconvert_exporter": "python",
   "pygments_lexer": "ipython3",
   "version": "3.11.7"
  }
 },
 "nbformat": 4,
 "nbformat_minor": 2
}
