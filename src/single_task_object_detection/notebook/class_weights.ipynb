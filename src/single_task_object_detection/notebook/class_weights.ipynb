{
 "cells": [
  {
   "cell_type": "markdown",
   "metadata": {},
   "source": [
    "- aeroplane 184\n",
    "- bicycle 161\n",
    "- bird 254\n",
    "- boat 232\n",
    "- bottle 297\n",
    "- bus 73\n",
    "- car 533\n",
    "- cat 187\n",
    "- chair 447\n",
    "- cow 103\n",
    "- diningtable 113\n",
    "- dog 244\n",
    "- horse 153\n",
    "- motorbike 150\n",
    "- person 2500\n",
    "- pottedplant 225\n",
    "- sheep 123\n",
    "- sofa 121\n",
    "- train 90\n",
    "- tvmonitor 150\n"
   ]
  },
  {
   "cell_type": "code",
   "execution_count": 1,
   "metadata": {},
   "outputs": [
    {
     "data": {
      "text/plain": [
       "array([2.07189542, 0.1268    , 1.06734007, 1.29918033, 2.11333333,\n",
       "       0.59474672, 1.72282609, 1.9689441 , 1.36637931, 0.70917226,\n",
       "       2.80530973, 1.40888889, 3.52222222, 1.69518717, 2.61983471,\n",
       "       1.2480315 , 2.57723577, 2.11333333, 4.34246575, 3.0776699 ])"
      ]
     },
     "execution_count": 1,
     "metadata": {},
     "output_type": "execute_result"
    }
   ],
   "source": [
    "import numpy as np\n",
    "\n",
    "instances_class = np.concatenate(\n",
    "    [\n",
    "        np.repeat(7, 184),\n",
    "        np.repeat(8, 161),\n",
    "        np.repeat(16, 254),\n",
    "        np.repeat(9, 232),\n",
    "        np.repeat(3, 297),\n",
    "        np.repeat(19, 73),\n",
    "        np.repeat(6, 533),\n",
    "        np.repeat(14, 187),\n",
    "        np.repeat(10, 447),\n",
    "        np.repeat(20, 103),\n",
    "        np.repeat(11, 113),\n",
    "        np.repeat(4, 244),\n",
    "        np.repeat(1, 153),\n",
    "        np.repeat(18, 150),\n",
    "        np.repeat(2, 2500),\n",
    "        np.repeat(12, 225),\n",
    "        np.repeat(17, 123),\n",
    "        np.repeat(15, 121),\n",
    "        np.repeat(13, 90),\n",
    "        np.repeat(5, 150),\n",
    "    ]\n",
    ")\n",
    "\n",
    "from sklearn.utils.class_weight import compute_class_weight\n",
    "\n",
    "\n",
    "compute_class_weight(\n",
    "    class_weight=\"balanced\", classes=np.unique(instances_class), y=instances_class\n",
    ")"
   ]
  },
  {
   "cell_type": "code",
   "execution_count": 2,
   "metadata": {},
   "outputs": [
    {
     "name": "stdout",
     "output_type": "stream",
     "text": [
      "{1: 2.0718954248366015, 2: 0.1268, 3: 1.0673400673400673, 4: 1.2991803278688525, 5: 2.1133333333333333, 6: 0.5947467166979362, 7: 1.7228260869565217, 8: 1.968944099378882, 9: 1.3663793103448276, 10: 0.70917225950783, 11: 2.8053097345132745, 12: 1.4088888888888889, 13: 3.522222222222222, 14: 1.695187165775401, 15: 2.6198347107438016, 16: 1.2480314960629921, 17: 2.5772357723577235, 18: 2.1133333333333333, 19: 4.342465753424658, 20: 3.0776699029126213}\n"
     ]
    }
   ],
   "source": [
    "import numpy as np\n",
    "from sklearn.utils.class_weight import compute_class_weight\n",
    "\n",
    "# Le classi di foreground e il numero di istanze\n",
    "instances_class = np.concatenate(\n",
    "    [\n",
    "        np.repeat(7, 184),\n",
    "        np.repeat(8, 161),\n",
    "        np.repeat(16, 254),\n",
    "        np.repeat(9, 232),\n",
    "        np.repeat(3, 297),\n",
    "        np.repeat(19, 73),\n",
    "        np.repeat(6, 533),\n",
    "        np.repeat(14, 187),\n",
    "        np.repeat(10, 447),\n",
    "        np.repeat(20, 103),\n",
    "        np.repeat(11, 113),\n",
    "        np.repeat(4, 244),\n",
    "        np.repeat(1, 153),\n",
    "        np.repeat(18, 150),\n",
    "        np.repeat(2, 2500),\n",
    "        np.repeat(12, 225),\n",
    "        np.repeat(17, 123),\n",
    "        np.repeat(15, 121),\n",
    "        np.repeat(13, 90),\n",
    "        np.repeat(5, 150),\n",
    "    ]\n",
    ")\n",
    "\n",
    "# Calcolo dei pesi per le classi di foreground\n",
    "class_weights = compute_class_weight(\n",
    "    class_weight=\"balanced\", classes=np.unique(instances_class), y=instances_class\n",
    ")\n",
    "\n",
    "# Assegna i pesi alle classi\n",
    "class_weights_dict = dict(zip(np.unique(instances_class), class_weights))\n",
    "print(class_weights_dict)"
   ]
  },
  {
   "cell_type": "code",
   "execution_count": 3,
   "metadata": {},
   "outputs": [
    {
     "name": "stdout",
     "output_type": "stream",
     "text": [
      "{1: 2.0718954248366015, 2: 0.1268, 3: 1.0673400673400673, 4: 1.2991803278688525, 5: 2.1133333333333333, 6: 0.5947467166979362, 7: 1.7228260869565217, 8: 1.968944099378882, 9: 1.3663793103448276, 10: 0.70917225950783, 11: 2.8053097345132745, 12: 1.4088888888888889, 13: 3.522222222222222, 14: 1.695187165775401, 15: 2.6198347107438016, 16: 1.2480314960629921, 17: 2.5772357723577235, 18: 2.1133333333333333, 19: 4.342465753424658, 20: 3.0776699029126213, 0: 0.19225398303249883}\n"
     ]
    }
   ],
   "source": [
    "# Calcola il peso medio delle classi di foreground\n",
    "foreground_weight_mean = np.mean(list(class_weights_dict.values()))\n",
    "\n",
    "# Assegna un peso alla classe di background, che potrebbe essere una frazione del peso medio delle classi di foreground\n",
    "background_weight = (\n",
    "    foreground_weight_mean / 10\n",
    ")  # Ad esempio, un decimo del peso medio delle classi di foreground\n",
    "\n",
    "# Aggiungi il peso della classe di background al dizionario dei pesi\n",
    "class_weights_dict[0] = background_weight  # Assumendo che la classe di background sia 0\n",
    "\n",
    "print(class_weights_dict)"
   ]
  },
  {
   "cell_type": "code",
   "execution_count": 4,
   "metadata": {},
   "outputs": [],
   "source": [
    "import torch\n",
    "import torch.nn as nn\n",
    "\n",
    "# Converti i pesi delle classi in una lista\n",
    "class_weights_list = [class_weights_dict[i] for i in range(len(class_weights_dict))]\n",
    "\n",
    "# Converte i pesi delle classi in un tensore\n",
    "class_weights_tensor = torch.tensor(class_weights_list, dtype=torch.float32)\n",
    "\n",
    "# Definisci la funzione di perdita con i pesi delle classi\n",
    "criterion = nn.CrossEntropyLoss(weight=class_weights_tensor)"
   ]
  },
  {
   "cell_type": "code",
   "execution_count": 6,
   "metadata": {},
   "outputs": [
    {
     "data": {
      "text/plain": [
       "tensor([0.1923, 2.0719, 0.1268, 1.0673, 1.2992, 2.1133, 0.5947, 1.7228, 1.9689,\n",
       "        1.3664, 0.7092, 2.8053, 1.4089, 3.5222, 1.6952, 2.6198, 1.2480, 2.5772,\n",
       "        2.1133, 4.3425, 3.0777])"
      ]
     },
     "execution_count": 6,
     "metadata": {},
     "output_type": "execute_result"
    }
   ],
   "source": [
    "import numpy as np\n",
    "from sklearn.utils.class_weight import compute_class_weight\n",
    "\n",
    "\n",
    "def get_class_weigths():\n",
    "    instances_class = np.concatenate(\n",
    "        [\n",
    "            np.repeat(7, 184),\n",
    "            np.repeat(8, 161),\n",
    "            np.repeat(16, 254),\n",
    "            np.repeat(9, 232),\n",
    "            np.repeat(3, 297),\n",
    "            np.repeat(19, 73),\n",
    "            np.repeat(6, 533),\n",
    "            np.repeat(14, 187),\n",
    "            np.repeat(10, 447),\n",
    "            np.repeat(20, 103),\n",
    "            np.repeat(11, 113),\n",
    "            np.repeat(4, 244),\n",
    "            np.repeat(1, 153),\n",
    "            np.repeat(18, 150),\n",
    "            np.repeat(2, 2500),\n",
    "            np.repeat(12, 225),\n",
    "            np.repeat(17, 123),\n",
    "            np.repeat(15, 121),\n",
    "            np.repeat(13, 90),\n",
    "            np.repeat(5, 150),\n",
    "        ]\n",
    "    )\n",
    "    class_weights = compute_class_weight(\n",
    "        class_weight=\"balanced\", classes=np.unique(instances_class), y=instances_class\n",
    "    )\n",
    "    class_weights_dict = dict(zip(np.unique(instances_class), class_weights))\n",
    "    foreground_weight_mean = np.mean(list(class_weights_dict.values()))\n",
    "    background_weight = foreground_weight_mean / 10\n",
    "    class_weights_dict[0] = background_weight\n",
    "    class_weights_list = [class_weights_dict[i] for i in range(len(class_weights_dict))]\n",
    "    class_weights_tensor = torch.tensor(class_weights_list, dtype=torch.float32)\n",
    "    return class_weights_tensor\n",
    "\n",
    "\n",
    "get_class_weigths()"
   ]
  }
 ],
 "metadata": {
  "kernelspec": {
   "display_name": "dl",
   "language": "python",
   "name": "python3"
  },
  "language_info": {
   "codemirror_mode": {
    "name": "ipython",
    "version": 3
   },
   "file_extension": ".py",
   "mimetype": "text/x-python",
   "name": "python",
   "nbconvert_exporter": "python",
   "pygments_lexer": "ipython3",
   "version": "3.11.7"
  }
 },
 "nbformat": 4,
 "nbformat_minor": 2
}
