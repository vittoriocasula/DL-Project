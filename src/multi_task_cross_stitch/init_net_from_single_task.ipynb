{
 "cells": [
  {
   "cell_type": "code",
   "execution_count": null,
   "metadata": {},
   "outputs": [],
   "source": [
    "import os\n",
    "import sys\n",
    "import argparse\n",
    "\n",
    "print(os.getcwd())\n",
    "os.chdir(\"../../\")\n",
    "os.getcwd()\n",
    "\n",
    "sys.argv = [\"view\", \"--config\", \"config/multi_task_cross_stitch.yaml\"]\n",
    "\n",
    "parser = argparse.ArgumentParser()\n",
    "parser.add_argument(\"--config\", type=str, required=True, help=\"Path to the config file\")\n",
    "args = parser.parse_args()\n",
    "\n",
    "print(args.config)"
   ]
  },
  {
   "cell_type": "code",
   "execution_count": null,
   "metadata": {},
   "outputs": [],
   "source": [
    "from config_experiments import config\n",
    "from torchvision.transforms import transforms\n",
    "from dataloader import VOC08Attr\n",
    "import matplotlib.pyplot as plt\n",
    "from model import (\n",
    "    ObjectDetectionModel,\n",
    "    AttributePredictionModel,\n",
    "    CrossStitchNet,\n",
    "    AttributePredictionHead,\n",
    "    ObjectDetectionHead,\n",
    ")\n",
    "from utils import set_device\n",
    "import torch\n",
    "from bbox_transform import resize_bounding_boxes, apply_nms\n",
    "import matplotlib.patches as patches\n",
    "import torchvision\n",
    "import torch.nn as nn"
   ]
  },
  {
   "cell_type": "code",
   "execution_count": null,
   "metadata": {},
   "outputs": [],
   "source": [
    "device = set_device(config[\"global\"][\"gpu_id\"])"
   ]
  },
  {
   "cell_type": "code",
   "execution_count": null,
   "metadata": {},
   "outputs": [],
   "source": [
    "path_best_model_obj = \"../dl_project/experiments/object_detection/2024-07-28_19-23-43/models/best_model_epoch_94.pth\"\n",
    "path_best_model_attr = \"../dl_project/experiments/attribute_prediction/2024-07-29_17-54-07/models/best_model_epoch_20.pth\"\n",
    "model_obj = ObjectDetectionModel().to(device)\n",
    "model_attr = AttributePredictionModel().to(device)\n",
    "model_obj.load_state_dict(torch.load(path_best_model_obj, map_location=device))\n",
    "model_attr.load_state_dict(torch.load(path_best_model_attr, map_location=device))\n",
    "model_cross = CrossStitchNet().to(device)\n",
    "\n",
    "\n",
    "def copy_weights(src_layers, dst_layers):\n",
    "    src_idx = 0\n",
    "    dst_idx = 0\n",
    "    while src_idx < len(src_layers) and dst_idx < len(dst_layers):\n",
    "        if isinstance(dst_layers[dst_idx], nn.Conv2d):\n",
    "            if isinstance(src_layers[src_idx], nn.Conv2d):\n",
    "                dst_layers[dst_idx].weight.data = src_layers[\n",
    "                    src_idx\n",
    "                ].weight.data.clone()\n",
    "                if src_layers[src_idx].bias is not None:\n",
    "                    dst_layers[dst_idx].bias.data = src_layers[\n",
    "                        src_idx\n",
    "                    ].bias.data.clone()\n",
    "            src_idx += 1\n",
    "        dst_idx += 1\n",
    "\n",
    "\n",
    "for model_a, model_b in zip(\n",
    "    model_cross.cross_stitch_net.models_a, model_cross.cross_stitch_net.models_b\n",
    "):\n",
    "    copy_weights(model_obj.alex.features, model_a)\n",
    "    copy_weights(model_attr.alex.features, model_b)\n",
    "\n",
    "model_cross.roi_a.load_state_dict(model_obj.roi_module.state_dict())\n",
    "model_cross.roi_b.load_state_dict(model_attr.roi_module.state_dict())\n",
    "\n",
    "model_cross.model_obj_detect.load_state_dict(model_obj.obj_detect_head.state_dict())\n",
    "model_cross.model_attribute.load_state_dict(model_attr.attribute_head.state_dict())"
   ]
  },
  {
   "cell_type": "code",
   "execution_count": null,
   "metadata": {},
   "outputs": [],
   "source": [
    "for name, layer in model_attr.named_parameters():\n",
    "    print(name, layer.shape)"
   ]
  },
  {
   "cell_type": "code",
   "execution_count": null,
   "metadata": {},
   "outputs": [],
   "source": [
    "for name, layer in model_cross.named_parameters():\n",
    "    print(name, layer.shape)"
   ]
  }
 ],
 "metadata": {
  "kernelspec": {
   "display_name": "dl",
   "language": "python",
   "name": "python3"
  },
  "language_info": {
   "codemirror_mode": {
    "name": "ipython",
    "version": 3
   },
   "file_extension": ".py",
   "mimetype": "text/x-python",
   "name": "python",
   "nbconvert_exporter": "python",
   "pygments_lexer": "ipython3",
   "version": "3.11.7"
  }
 },
 "nbformat": 4,
 "nbformat_minor": 2
}
