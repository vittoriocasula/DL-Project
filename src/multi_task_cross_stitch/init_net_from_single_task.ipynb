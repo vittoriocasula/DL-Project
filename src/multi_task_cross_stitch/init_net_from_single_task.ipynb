{
 "cells": [
  {
   "cell_type": "code",
   "execution_count": 1,
   "metadata": {},
   "outputs": [
    {
     "name": "stdout",
     "output_type": "stream",
     "text": [
      "/data01/dl23vitcas/dl_project/src/multi_task_cross_stitch\n",
      "config/multi_task_cross_stitch.yaml\n"
     ]
    }
   ],
   "source": [
    "import os\n",
    "import sys\n",
    "import argparse\n",
    "\n",
    "print(os.getcwd())\n",
    "os.chdir(\"../../\")\n",
    "os.getcwd()\n",
    "\n",
    "sys.argv = [\"view\", \"--config\", \"config/multi_task_cross_stitch.yaml\"]\n",
    "\n",
    "parser = argparse.ArgumentParser()\n",
    "parser.add_argument(\"--config\", type=str, required=True, help=\"Path to the config file\")\n",
    "args = parser.parse_args()\n",
    "\n",
    "print(args.config)"
   ]
  },
  {
   "cell_type": "code",
   "execution_count": 2,
   "metadata": {},
   "outputs": [],
   "source": [
    "from config_experiments import config\n",
    "from torchvision.transforms import transforms\n",
    "from dataloader import VOC08Attr\n",
    "import matplotlib.pyplot as plt\n",
    "from model import (\n",
    "    ObjectDetectionModel,\n",
    "    AttributePredictionModel,\n",
    "    CrossStitchNet,\n",
    "    AttributePredictionHead,\n",
    "    ObjectDetectionHead,\n",
    ")\n",
    "from utils import set_device\n",
    "import torch\n",
    "from bbox_transform import resize_bounding_boxes, apply_nms\n",
    "import matplotlib.patches as patches\n",
    "import torchvision\n",
    "import torch.nn as nn"
   ]
  },
  {
   "cell_type": "code",
   "execution_count": 3,
   "metadata": {},
   "outputs": [],
   "source": [
    "device = set_device(config[\"global\"][\"gpu_id\"])"
   ]
  },
  {
   "cell_type": "code",
   "execution_count": 4,
   "metadata": {},
   "outputs": [
    {
     "data": {
      "text/plain": [
       "<All keys matched successfully>"
      ]
     },
     "execution_count": 4,
     "metadata": {},
     "output_type": "execute_result"
    }
   ],
   "source": [
    "path_best_model_obj = \"../dl_project/experiments/object_detection/2024-07-28_19-23-43/models/best_model_epoch_94.pth\"\n",
    "path_best_model_attr = \"../dl_project/experiments/attribute_prediction/2024-07-29_17-54-07/models/best_model_epoch_20.pth\"\n",
    "model_obj = ObjectDetectionModel().to(device)\n",
    "model_attr = AttributePredictionModel().to(device)\n",
    "model_obj.load_state_dict(torch.load(path_best_model_obj, map_location=device))\n",
    "model_attr.load_state_dict(torch.load(path_best_model_attr, map_location=device))\n",
    "model_cross = CrossStitchNet().to(device)\n",
    "\n",
    "\n",
    "def copy_weights(src_layers, dst_layers):\n",
    "    src_idx = 0\n",
    "    dst_idx = 0\n",
    "    while src_idx < len(src_layers) and dst_idx < len(dst_layers):\n",
    "        if isinstance(dst_layers[dst_idx], nn.Conv2d):\n",
    "            if isinstance(src_layers[src_idx], nn.Conv2d):\n",
    "                dst_layers[dst_idx].weight.data = src_layers[\n",
    "                    src_idx\n",
    "                ].weight.data.clone()\n",
    "                if src_layers[src_idx].bias is not None:\n",
    "                    dst_layers[dst_idx].bias.data = src_layers[\n",
    "                        src_idx\n",
    "                    ].bias.data.clone()\n",
    "            src_idx += 1\n",
    "        dst_idx += 1\n",
    "\n",
    "\n",
    "for model_a, model_b in zip(\n",
    "    model_cross.cross_stitch_net.models_a, model_cross.cross_stitch_net.models_b\n",
    "):\n",
    "    copy_weights(model_obj.alex.features, model_a)\n",
    "    copy_weights(model_attr.alex.features, model_b)\n",
    "\n",
    "model_cross.roi_a.load_state_dict(model_obj.roi_module.state_dict())\n",
    "model_cross.roi_b.load_state_dict(model_attr.roi_module.state_dict())\n",
    "\n",
    "model_cross.model_obj_detect.load_state_dict(model_obj.obj_detect_head.state_dict())\n",
    "model_cross.model_attribute.load_state_dict(model_attr.attribute_head.state_dict())"
   ]
  },
  {
   "cell_type": "code",
   "execution_count": 9,
   "metadata": {},
   "outputs": [
    {
     "name": "stdout",
     "output_type": "stream",
     "text": [
      "alex.features.0.weight torch.Size([64, 3, 3, 3])\n",
      "alex.features.0.bias torch.Size([64])\n",
      "alex.features.2.weight torch.Size([64, 64, 3, 3])\n",
      "alex.features.2.bias torch.Size([64])\n",
      "alex.features.5.weight torch.Size([128, 64, 3, 3])\n",
      "alex.features.5.bias torch.Size([128])\n",
      "alex.features.7.weight torch.Size([128, 128, 3, 3])\n",
      "alex.features.7.bias torch.Size([128])\n",
      "alex.features.10.weight torch.Size([256, 128, 3, 3])\n",
      "alex.features.10.bias torch.Size([256])\n",
      "alex.features.12.weight torch.Size([256, 256, 3, 3])\n",
      "alex.features.12.bias torch.Size([256])\n",
      "alex.features.14.weight torch.Size([256, 256, 3, 3])\n",
      "alex.features.14.bias torch.Size([256])\n",
      "alex.features.17.weight torch.Size([512, 256, 3, 3])\n",
      "alex.features.17.bias torch.Size([512])\n",
      "alex.features.19.weight torch.Size([512, 512, 3, 3])\n",
      "alex.features.19.bias torch.Size([512])\n",
      "alex.features.21.weight torch.Size([512, 512, 3, 3])\n",
      "alex.features.21.bias torch.Size([512])\n",
      "alex.features.24.weight torch.Size([512, 512, 3, 3])\n",
      "alex.features.24.bias torch.Size([512])\n",
      "alex.features.26.weight torch.Size([512, 512, 3, 3])\n",
      "alex.features.26.bias torch.Size([512])\n",
      "alex.features.28.weight torch.Size([512, 512, 3, 3])\n",
      "alex.features.28.bias torch.Size([512])\n",
      "roi_module.classifier.1.weight torch.Size([4096, 25088])\n",
      "roi_module.classifier.1.bias torch.Size([4096])\n",
      "roi_module.classifier.4.weight torch.Size([4096, 4096])\n",
      "roi_module.classifier.4.bias torch.Size([4096])\n",
      "attribute_head.attr_score.weight torch.Size([64, 4096])\n",
      "attribute_head.attr_score.bias torch.Size([64])\n"
     ]
    }
   ],
   "source": [
    "for name, layer in model_attr.named_parameters():\n",
    "    print(name, layer.shape)"
   ]
  },
  {
   "cell_type": "code",
   "execution_count": 5,
   "metadata": {},
   "outputs": [
    {
     "name": "stdout",
     "output_type": "stream",
     "text": [
      "cross_stitch_net.models_a.0.0.weight torch.Size([64, 3, 3, 3])\n",
      "cross_stitch_net.models_a.0.0.bias torch.Size([64])\n",
      "cross_stitch_net.models_a.0.2.weight torch.Size([64, 64, 3, 3])\n",
      "cross_stitch_net.models_a.0.2.bias torch.Size([64])\n",
      "cross_stitch_net.models_a.1.0.weight torch.Size([64, 3, 3, 3])\n",
      "cross_stitch_net.models_a.1.0.bias torch.Size([64])\n",
      "cross_stitch_net.models_a.1.2.weight torch.Size([128, 128, 3, 3])\n",
      "cross_stitch_net.models_a.1.2.bias torch.Size([128])\n",
      "cross_stitch_net.models_a.2.0.weight torch.Size([64, 3, 3, 3])\n",
      "cross_stitch_net.models_a.2.0.bias torch.Size([64])\n",
      "cross_stitch_net.models_a.2.2.weight torch.Size([256, 256, 3, 3])\n",
      "cross_stitch_net.models_a.2.2.bias torch.Size([256])\n",
      "cross_stitch_net.models_a.2.4.weight torch.Size([64, 64, 3, 3])\n",
      "cross_stitch_net.models_a.2.4.bias torch.Size([64])\n",
      "cross_stitch_net.models_a.3.0.weight torch.Size([64, 3, 3, 3])\n",
      "cross_stitch_net.models_a.3.0.bias torch.Size([64])\n",
      "cross_stitch_net.models_a.3.2.weight torch.Size([512, 512, 3, 3])\n",
      "cross_stitch_net.models_a.3.2.bias torch.Size([512])\n",
      "cross_stitch_net.models_a.3.4.weight torch.Size([64, 64, 3, 3])\n",
      "cross_stitch_net.models_a.3.4.bias torch.Size([64])\n",
      "cross_stitch_net.models_a.4.0.weight torch.Size([64, 3, 3, 3])\n",
      "cross_stitch_net.models_a.4.0.bias torch.Size([64])\n",
      "cross_stitch_net.models_a.4.2.weight torch.Size([512, 512, 3, 3])\n",
      "cross_stitch_net.models_a.4.2.bias torch.Size([512])\n",
      "cross_stitch_net.models_a.4.4.weight torch.Size([64, 64, 3, 3])\n",
      "cross_stitch_net.models_a.4.4.bias torch.Size([64])\n",
      "cross_stitch_net.models_b.0.0.weight torch.Size([64, 3, 3, 3])\n",
      "cross_stitch_net.models_b.0.0.bias torch.Size([64])\n",
      "cross_stitch_net.models_b.0.2.weight torch.Size([64, 64, 3, 3])\n",
      "cross_stitch_net.models_b.0.2.bias torch.Size([64])\n",
      "cross_stitch_net.models_b.1.0.weight torch.Size([64, 3, 3, 3])\n",
      "cross_stitch_net.models_b.1.0.bias torch.Size([64])\n",
      "cross_stitch_net.models_b.1.2.weight torch.Size([128, 128, 3, 3])\n",
      "cross_stitch_net.models_b.1.2.bias torch.Size([128])\n",
      "cross_stitch_net.models_b.2.0.weight torch.Size([64, 3, 3, 3])\n",
      "cross_stitch_net.models_b.2.0.bias torch.Size([64])\n",
      "cross_stitch_net.models_b.2.2.weight torch.Size([256, 256, 3, 3])\n",
      "cross_stitch_net.models_b.2.2.bias torch.Size([256])\n",
      "cross_stitch_net.models_b.2.4.weight torch.Size([64, 64, 3, 3])\n",
      "cross_stitch_net.models_b.2.4.bias torch.Size([64])\n",
      "cross_stitch_net.models_b.3.0.weight torch.Size([64, 3, 3, 3])\n",
      "cross_stitch_net.models_b.3.0.bias torch.Size([64])\n",
      "cross_stitch_net.models_b.3.2.weight torch.Size([512, 512, 3, 3])\n",
      "cross_stitch_net.models_b.3.2.bias torch.Size([512])\n",
      "cross_stitch_net.models_b.3.4.weight torch.Size([64, 64, 3, 3])\n",
      "cross_stitch_net.models_b.3.4.bias torch.Size([64])\n",
      "cross_stitch_net.models_b.4.0.weight torch.Size([64, 3, 3, 3])\n",
      "cross_stitch_net.models_b.4.0.bias torch.Size([64])\n",
      "cross_stitch_net.models_b.4.2.weight torch.Size([512, 512, 3, 3])\n",
      "cross_stitch_net.models_b.4.2.bias torch.Size([512])\n",
      "cross_stitch_net.models_b.4.4.weight torch.Size([64, 64, 3, 3])\n",
      "cross_stitch_net.models_b.4.4.bias torch.Size([64])\n",
      "cross_stitch_net.cross_stitch_units.0.alfa_a torch.Size([2])\n",
      "cross_stitch_net.cross_stitch_units.0.alfa_b torch.Size([2])\n",
      "cross_stitch_net.cross_stitch_units.1.alfa_a torch.Size([2])\n",
      "cross_stitch_net.cross_stitch_units.1.alfa_b torch.Size([2])\n",
      "cross_stitch_net.cross_stitch_units.2.alfa_a torch.Size([2])\n",
      "cross_stitch_net.cross_stitch_units.2.alfa_b torch.Size([2])\n",
      "cross_stitch_net.cross_stitch_units.3.alfa_a torch.Size([2])\n",
      "cross_stitch_net.cross_stitch_units.3.alfa_b torch.Size([2])\n",
      "cross_stitch_net.cross_stitch_units.4.alfa_a torch.Size([2])\n",
      "cross_stitch_net.cross_stitch_units.4.alfa_b torch.Size([2])\n",
      "roi_a.classifier.1.weight torch.Size([4096, 25088])\n",
      "roi_a.classifier.1.bias torch.Size([4096])\n",
      "roi_a.classifier.4.weight torch.Size([4096, 4096])\n",
      "roi_a.classifier.4.bias torch.Size([4096])\n",
      "roi_b.classifier.1.weight torch.Size([4096, 25088])\n",
      "roi_b.classifier.1.bias torch.Size([4096])\n",
      "roi_b.classifier.4.weight torch.Size([4096, 4096])\n",
      "roi_b.classifier.4.bias torch.Size([4096])\n",
      "model_obj_detect.cls_score.weight torch.Size([21, 4096])\n",
      "model_obj_detect.cls_score.bias torch.Size([21])\n",
      "model_obj_detect.bbox.weight torch.Size([84, 4096])\n",
      "model_obj_detect.bbox.bias torch.Size([84])\n",
      "model_attribute.attr_score.weight torch.Size([64, 4096])\n",
      "model_attribute.attr_score.bias torch.Size([64])\n"
     ]
    }
   ],
   "source": [
    "for name, layer in model_cross.named_parameters():\n",
    "    print(name, layer.shape)"
   ]
  }
 ],
 "metadata": {
  "kernelspec": {
   "display_name": "dl",
   "language": "python",
   "name": "python3"
  },
  "language_info": {
   "codemirror_mode": {
    "name": "ipython",
    "version": 3
   },
   "file_extension": ".py",
   "mimetype": "text/x-python",
   "name": "python",
   "nbconvert_exporter": "python",
   "pygments_lexer": "ipython3",
   "version": "3.11.7"
  }
 },
 "nbformat": 4,
 "nbformat_minor": 2
}
