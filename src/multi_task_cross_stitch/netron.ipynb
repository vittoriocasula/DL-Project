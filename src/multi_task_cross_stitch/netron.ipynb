{
 "cells": [
  {
   "cell_type": "code",
   "execution_count": null,
   "metadata": {},
   "outputs": [],
   "source": [
    "import sys\n",
    "import argparse\n",
    "import os\n",
    "\n",
    "sys.argv = [\"view\", \"--config\", \"../../config/multi_task_cross_stitch.yaml\"]\n",
    "\n",
    "parser = argparse.ArgumentParser()\n",
    "parser.add_argument(\"--config\", type=str, required=True, help=\"Path to the config file\")\n",
    "args = parser.parse_args()\n",
    "\n",
    "print(args.config)"
   ]
  },
  {
   "cell_type": "code",
   "execution_count": null,
   "metadata": {},
   "outputs": [],
   "source": [
    "from dataloader import VOC08Attr\n",
    "from torchvision.transforms import transforms\n",
    "from config_experiments import config\n",
    "from model import ObjectDetectionModel, AttributePredictionModel, CrossStitchNet\n",
    "import torch\n",
    "import numpy as np\n",
    "import torch.onnx\n",
    "import netron\n",
    "from utils import set_device"
   ]
  },
  {
   "cell_type": "code",
   "execution_count": null,
   "metadata": {},
   "outputs": [],
   "source": [
    "os.getcwd()\n",
    "os.chdir(\"../../\")\n",
    "os.getcwd()"
   ]
  },
  {
   "cell_type": "code",
   "execution_count": null,
   "metadata": {},
   "outputs": [],
   "source": [
    "transform_train = transforms.Compose(\n",
    "    [\n",
    "        transforms.Resize(size=config[\"transform\"][\"resize_values\"]),\n",
    "        transforms.ToTensor(),\n",
    "        transforms.Normalize(\n",
    "            mean=config[\"transform\"][\"mean\"], std=config[\"transform\"][\"std\"]\n",
    "        ),\n",
    "    ]\n",
    ")\n",
    "device = set_device(config[\"global\"][\"gpu_id\"])"
   ]
  },
  {
   "cell_type": "code",
   "execution_count": null,
   "metadata": {},
   "outputs": [],
   "source": [
    "model = CrossStitchNet(\n",
    "    ObjectDetectionModel().alex,\n",
    "    AttributePredictionModel().alex,\n",
    ")"
   ]
  },
  {
   "cell_type": "code",
   "execution_count": null,
   "metadata": {},
   "outputs": [],
   "source": [
    "model.eval()\n",
    "\n",
    "data_train = VOC08Attr(transform=transform_train, train=True)\n",
    "\n",
    "image, _, gt_class, gt_bbox, gt_attributes, ss_rois = data_train[0]\n",
    "\n",
    "num_roi = ss_rois.shape[0]\n",
    "ridx = np.zeros(num_roi).astype(int)\n",
    "ridx = torch.from_numpy(ridx).unsqueeze(-1)\n",
    "\n",
    "name_file = \"src/multi_task_cross_stitch/model_cross.onnx\"\n",
    "\n",
    "torch.onnx.export(model, (image.unsqueeze(0), ss_rois, ridx), name_file)\n",
    "netron.start(name_file)"
   ]
  }
 ],
 "metadata": {
  "kernelspec": {
   "display_name": "dl",
   "language": "python",
   "name": "python3"
  },
  "language_info": {
   "codemirror_mode": {
    "name": "ipython",
    "version": 3
   },
   "file_extension": ".py",
   "mimetype": "text/x-python",
   "name": "python",
   "nbconvert_exporter": "python",
   "pygments_lexer": "ipython3",
   "version": "3.11.7"
  }
 },
 "nbformat": 4,
 "nbformat_minor": 2
}
