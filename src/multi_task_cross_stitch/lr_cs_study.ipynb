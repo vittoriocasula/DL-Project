{
 "cells": [
  {
   "cell_type": "code",
   "execution_count": null,
   "metadata": {},
   "outputs": [],
   "source": [
    "import os\n",
    "import sys\n",
    "import argparse\n",
    "\n",
    "print(os.getcwd())\n",
    "os.chdir(\"../../\")\n",
    "os.getcwd()\n",
    "\n",
    "sys.argv = [\"view\", \"--config\", \"config/multi_task_cross_stitch.yaml\"]\n",
    "\n",
    "parser = argparse.ArgumentParser()\n",
    "parser.add_argument(\"--config\", type=str, required=True, help=\"Path to the config file\")\n",
    "args = parser.parse_args()\n",
    "\n",
    "print(args.config)"
   ]
  },
  {
   "cell_type": "code",
   "execution_count": null,
   "metadata": {},
   "outputs": [],
   "source": [
    "from config_experiments import config\n",
    "from torchvision.transforms import transforms\n",
    "from dataloader import VOC08Attr\n",
    "import matplotlib.pyplot as plt\n",
    "from model import (\n",
    "    ObjectDetectionModel,\n",
    "    AttributePredictionModel,\n",
    "    CrossStitchNet,\n",
    "    AttributePredictionHead,\n",
    "    ObjectDetectionHead,\n",
    ")\n",
    "from utils import set_device\n",
    "import torch\n",
    "from bbox_transform import resize_bounding_boxes, apply_nms\n",
    "import matplotlib.patches as patches\n",
    "import torchvision\n",
    "import torch.nn as nn"
   ]
  },
  {
   "cell_type": "code",
   "execution_count": null,
   "metadata": {},
   "outputs": [],
   "source": [
    "device = \"cpu\"\n",
    "\n",
    "model_obj = ObjectDetectionModel().to(device)\n",
    "model_attr = AttributePredictionModel().to(device)\n",
    "model = CrossStitchNet(model_obj.backbone, model_attr.backbone).to(device)"
   ]
  },
  {
   "cell_type": "code",
   "execution_count": null,
   "metadata": {},
   "outputs": [],
   "source": [
    "# Lista dei parametri per i due ottimizzatori\n",
    "params = []\n",
    "cross_stitch_params = []\n",
    "\n",
    "# Assegna i parametri ai rispettivi gruppi\n",
    "for name, param in model.named_parameters():\n",
    "    if \"alfa_a\" in name or \"alfa_b\" in name:\n",
    "        cross_stitch_params.append(param)\n",
    "    elif \"weight\" in name:\n",
    "        params.append(\n",
    "            {\n",
    "                \"params\": param,\n",
    "                \"lr\": config[\"optimizer\"][\"lr_global\"]\n",
    "                * config[\"optimizer\"][\"lr_weigth_mult\"],\n",
    "                \"weight_decay\": config[\"optimizer\"][\"weight_decay\"],\n",
    "            }\n",
    "        )\n",
    "    elif \"bias\" in name:\n",
    "        params.append(\n",
    "            {\n",
    "                \"params\": param,\n",
    "                \"lr\": config[\"optimizer\"][\"lr_global\"]\n",
    "                * config[\"optimizer\"][\"lr_bias_mult\"],\n",
    "                \"weight_decay\": config[\"optimizer\"][\"weight_decay\"],\n",
    "            }\n",
    "        )\n",
    "\n",
    "# Ottimizzatore per i parametri standard del modello\n",
    "optimizer = torch.optim.SGD(\n",
    "    params,\n",
    "    lr=config[\"optimizer\"][\"lr_global\"],\n",
    "    momentum=config[\"optimizer\"][\"momentum\"],\n",
    ")\n",
    "\n",
    "# Ottimizzatore per i parametri cross-stitch\n",
    "cross_stitch_optimizer = torch.optim.SGD(\n",
    "    [{\"params\": cross_stitch_params, \"lr\": config[\"cross_stitch\"][\"lr_cross_stitch\"]}],\n",
    "    momentum=0.0,  # senza momentum\n",
    ")"
   ]
  },
  {
   "cell_type": "code",
   "execution_count": null,
   "metadata": {},
   "outputs": [],
   "source": [
    "optimizer"
   ]
  },
  {
   "cell_type": "code",
   "execution_count": null,
   "metadata": {},
   "outputs": [],
   "source": [
    "cross_stitch_optimizer"
   ]
  },
  {
   "cell_type": "code",
   "execution_count": null,
   "metadata": {},
   "outputs": [],
   "source": [
    "cross_stitch_params"
   ]
  }
 ],
 "metadata": {
  "kernelspec": {
   "display_name": "dl",
   "language": "python",
   "name": "python3"
  },
  "language_info": {
   "codemirror_mode": {
    "name": "ipython",
    "version": 3
   },
   "file_extension": ".py",
   "mimetype": "text/x-python",
   "name": "python",
   "nbconvert_exporter": "python",
   "pygments_lexer": "ipython3",
   "version": "3.11.7"
  }
 },
 "nbformat": 4,
 "nbformat_minor": 2
}
